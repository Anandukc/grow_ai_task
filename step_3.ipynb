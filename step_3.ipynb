{
 "cells": [
  {
   "cell_type": "code",
   "execution_count": 1,
   "metadata": {},
   "outputs": [],
   "source": [
    "import os\n",
    "import numpy as np\n",
    "import cv2\n",
    "from sklearn.model_selection import train_test_split\n",
    "from sklearn.svm import SVC\n",
    "from sklearn.metrics import accuracy_score\n",
    "from keras.models import Sequential\n",
    "from keras.layers import Conv2D, MaxPooling2D, Flatten, Dense\n",
    "from keras.utils import to_categorical\n",
    "import matplotlib.pyplot as plt\n",
    "import joblib"
   ]
  },
  {
   "cell_type": "code",
   "execution_count": 2,
   "metadata": {},
   "outputs": [],
   "source": [
    "# Step 1: Load the images from the \"train\" and \"test\" folders and preprocess \n",
    "def load_images(folder_path):\n",
    "    images = []\n",
    "    labels = []\n",
    "    \n",
    "    for file_name in os.listdir(folder_path):\n",
    "        image_path = os.path.join(folder_path, file_name)\n",
    "        label = file_name.split('.')[0]  \n",
    "        \n",
    "        image = cv2.imread(image_path)\n",
    "        image = cv2.cvtColor(image, cv2.COLOR_BGR2GRAY)  # Convert image to grayscale \n",
    "        \n",
    "        \n",
    "        images.append(image)\n",
    "        labels.append(label)\n",
    "    \n",
    "    return images, labels\n",
    "\n",
    "train_folder = 'D:\\\\computer_vission\\\\task_growai\\\\anandu_kc\\\\split_data\\\\train'\n",
    "test_folder = 'D:\\\\computer_vission\\\\task_growai\\\\anandu_kc\\\\split_data\\\\test'    \n",
    "\n",
    "train_images, train_labels = load_images(train_folder)\n",
    "test_images, test_labels = load_images(test_folder)"
   ]
  },
  {
   "cell_type": "code",
   "execution_count": 3,
   "metadata": {},
   "outputs": [],
   "source": [
    "# Step 2: Extract facial features \n",
    "# CNN model for feature extraction\n",
    "\n",
    "# Preprocess the images for CNN input\n",
    "input_shape = (64, 64, 1) \n",
    "train_images = np.array([cv2.resize(image, input_shape[:2]) for image in train_images])\n",
    "test_images = np.array([cv2.resize(image, input_shape[:2]) for image in test_images])\n",
    "\n",
    "# Normalize the images to the range [0, 1]\n",
    "train_images = train_images / 255.0\n",
    "test_images = test_images / 255.0"
   ]
  },
  {
   "cell_type": "code",
   "execution_count": 4,
   "metadata": {},
   "outputs": [],
   "source": [
    "# Step 3: Split the data into training and validation sets\n",
    "X_train, X_val, y_train, y_val = train_test_split(train_images, train_labels, test_size=0.2, random_state=42)"
   ]
  },
  {
   "cell_type": "code",
   "execution_count": 5,
   "metadata": {},
   "outputs": [
    {
     "name": "stdout",
     "output_type": "stream",
     "text": [
      "Epoch 1/10\n",
      "3/3 [==============================] - 4s 365ms/step - loss: 5.8596 - accuracy: 0.0000e+00 - val_loss: 5.7125 - val_accuracy: 0.0000e+00\n",
      "Epoch 2/10\n",
      "3/3 [==============================] - 0s 173ms/step - loss: 5.3025 - accuracy: 0.0125 - val_loss: 5.4389 - val_accuracy: 0.0000e+00\n",
      "Epoch 3/10\n",
      "3/3 [==============================] - 0s 166ms/step - loss: 5.1799 - accuracy: 0.0125 - val_loss: 5.4805 - val_accuracy: 0.0000e+00\n",
      "Epoch 4/10\n",
      "3/3 [==============================] - 0s 167ms/step - loss: 5.1794 - accuracy: 0.0125 - val_loss: 5.6079 - val_accuracy: 0.0000e+00\n",
      "Epoch 5/10\n",
      "3/3 [==============================] - 0s 168ms/step - loss: 5.0774 - accuracy: 0.0250 - val_loss: 5.8464 - val_accuracy: 0.0000e+00\n",
      "Epoch 6/10\n",
      "3/3 [==============================] - 0s 171ms/step - loss: 5.0228 - accuracy: 0.0125 - val_loss: 6.1751 - val_accuracy: 0.0000e+00\n",
      "Epoch 7/10\n",
      "3/3 [==============================] - 1s 193ms/step - loss: 4.9885 - accuracy: 0.0250 - val_loss: 6.4024 - val_accuracy: 0.0000e+00\n",
      "Epoch 8/10\n",
      "3/3 [==============================] - 1s 235ms/step - loss: 4.9105 - accuracy: 0.0250 - val_loss: 6.3725 - val_accuracy: 0.0000e+00\n",
      "Epoch 9/10\n",
      "3/3 [==============================] - 1s 220ms/step - loss: 4.8402 - accuracy: 0.0125 - val_loss: 6.3796 - val_accuracy: 0.0000e+00\n",
      "Epoch 10/10\n",
      "3/3 [==============================] - 1s 199ms/step - loss: 4.7964 - accuracy: 0.0125 - val_loss: 6.5164 - val_accuracy: 0.0000e+00\n"
     ]
    }
   ],
   "source": [
    "# Step 4: Train a machine learning model \n",
    "#  train both an SVM classifier and a CNN classifier for comparison\n",
    "\n",
    "# SVM Classifier\n",
    "svm_classifier = SVC()\n",
    "svm_classifier.fit(X_train.reshape(X_train.shape[0], -1), y_train)\n",
    "\n",
    "# CNN Classifier\n",
    "num_classes = len(np.unique(train_labels + test_labels))\n",
    "y_train_encoded = to_categorical(y_train, num_classes=num_classes)\n",
    "y_val_encoded = to_categorical(y_val, num_classes=num_classes)\n",
    "\n",
    "cnn_classifier = Sequential()\n",
    "cnn_classifier.add(Conv2D(32, (3, 3), activation='relu', input_shape=input_shape))\n",
    "cnn_classifier.add(MaxPooling2D((2, 2)))\n",
    "cnn_classifier.add(Flatten())\n",
    "cnn_classifier.add(Dense(128, activation='relu'))\n",
    "cnn_classifier.add(Dense(num_classes, activation='softmax'))\n",
    "cnn_classifier.compile(optimizer='adam', loss='categorical_crossentropy', metrics=['accuracy'])\n",
    "history = cnn_classifier.fit(X_train, y_train_encoded, validation_data=(X_val, y_val_encoded), epochs=10, batch_size=32, verbose=1)"
   ]
  },
  {
   "cell_type": "code",
   "execution_count": 6,
   "metadata": {},
   "outputs": [
    {
     "name": "stdout",
     "output_type": "stream",
     "text": [
      "1/1 [==============================] - 0s 361ms/step\n",
      "SVM Validation Accuracy: 0.0\n",
      "CNN Validation Accuracy: 0.0\n"
     ]
    }
   ],
   "source": [
    "# Step 5: Evaluate the models' accuracy on the validation set\n",
    "# SVM Classifier\n",
    "svm_val_predictions = svm_classifier.predict(X_val.reshape(X_val.shape[0], -1))\n",
    "svm_val_accuracy = accuracy_score(y_val, svm_val_predictions)\n",
    "\n",
    "# CNN Classifier\n",
    "cnn_val_predictions = np.argmax(cnn_classifier.predict(X_val), axis=1)\n",
    "cnn_val_accuracy = accuracy_score(np.argmax(y_val_encoded, axis=1), cnn_val_predictions)\n",
    "\n",
    "print(\"SVM Validation Accuracy:\", svm_val_accuracy)\n",
    "print(\"CNN Validation Accuracy:\", cnn_val_accuracy)"
   ]
  },
  {
   "cell_type": "code",
   "execution_count": 7,
   "metadata": {},
   "outputs": [
    {
     "data": {
      "image/png": "[encoded data removed]",
      "text/plain": [
       "<Figure size 640x480 with 1 Axes>"
      ]
     },
     "metadata": {},
     "output_type": "display_data"
    }
   ],
   "source": [
    "# Step 6: Plot the accuracy throughout the training process using matplotlib\n",
    "# Plot the accuracy of the SVM classifier\n",
    "plt.plot([0, 1], [svm_val_accuracy, svm_val_accuracy], label='SVM', linestyle='dashed')\n",
    "# Plot the accuracy of the CNN classifier\n",
    "plt.plot(history.history['accuracy'], label='CNN (Train)')\n",
    "plt.plot(history.history['val_accuracy'], label='CNN (Validation)')\n",
    "plt.title('Classifier Accuracy')\n",
    "plt.xlabel('Epoch')\n",
    "plt.ylabel('Accuracy')\n",
    "plt.legend()\n",
    "plt.show()"
   ]
  },
  {
   "cell_type": "code",
   "execution_count": 9,
   "metadata": {},
   "outputs": [
    {
     "name": "stdout",
     "output_type": "stream",
     "text": [
      "INFO:tensorflow:Assets written to: D:\\computer_vission\\task_growai\\cnn_face_recognition_model\\assets\n"
     ]
    },
    {
     "name": "stderr",
     "output_type": "stream",
     "text": [
      "INFO:tensorflow:Assets written to: D:\\computer_vission\\task_growai\\cnn_face_recognition_model\\assets\n"
     ]
    },
    {
     "name": "stdout",
     "output_type": "stream",
     "text": [
      "CNN classifier model saved successfully.\n",
      "SVM classifier model saved successfully.\n"
     ]
    }
   ],
   "source": [
    "# Saving the trained CNN classifier model\n",
    "cnn_model_path = 'D:\\\\computer_vission\\\\task_growai\\\\cnn_face_recognition_model'\n",
    "cnn_classifier.save(cnn_model_path)\n",
    "print(\"CNN classifier model saved successfully.\")\n",
    "\n",
    "\n",
    "# Saving the trained SVM classifier model\n",
    "svm_model_path = 'D:\\\\computer_vission\\\\task_growai\\\\svm_face_recognition_model.pkl'\n",
    "joblib.dump(svm_classifier, svm_model_path, compress=3)\n",
    "print(\"SVM classifier model saved successfully.\")"
   ]
  }
 ],
 "metadata": {
  "kernelspec": {
   "display_name": "Python 3",
   "language": "python",
   "name": "python3"
  },
  "language_info": {
   "codemirror_mode": {
    "name": "ipython",
    "version": 3
   },
   "file_extension": ".py",
   "mimetype": "text/x-python",
   "name": "python",
   "nbconvert_exporter": "python",
   "pygments_lexer": "ipython3",
   "version": "3.10.10"
  },
  "orig_nbformat": 4
 },
 "nbformat": 4,
 "nbformat_minor": 2
}
